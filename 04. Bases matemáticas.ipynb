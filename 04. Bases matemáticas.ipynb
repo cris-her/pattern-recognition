{
 "cells": [
  {
   "cell_type": "markdown",
   "metadata": {},
   "source": [
    "![](images/header_04.png)<br>"
   ]
  },
  {
   "cell_type": "markdown",
   "metadata": {},
   "source": [
    "## Bases matemáticas\n",
    "\n",
    "\n",
    "La base de las técnicas de reconocimiento de patrones es la comparación entre los datos disponibles con el fin de determinar su semejanza. Los datos deben, para que la comparación tenga sentido, representar elementos del universo de discurso del problema.\n",
    "\n",
    "<img src='images/mat01.png' width='60%'>\n",
    "\n",
    "### Atributos y características\n",
    "Un **atributo** es una representación simbólica o numérica de una *propiedad* de un objeto, que puede ser útil para clasificarlo en una clase. Los diferentes objetos en un problema son descritos mediante diferentes *conjuntos de atributos*: En una clasificación de animales, por ejemplo, la descripción de las aves incluye atributos como el tipo de plumaje o la longitud del pico, atributos que no tiene sentido para otras clases de animales. \n",
    "\n",
    "Una manera de sistematizar y homogenizar la descripción de elementos en un problema es utilizando el mismo conjunto de propiedades para todos ellos, sean útiles o no para la clasificación de un objeto en particular, organizadas en lo que se denomina **vector de características**, así, podemos entender por **característica**, en el contexto de reconocimiento de patrones, cada uno de los atributos del objeto que será utilizado en su vector descriptivo: el conjunto de características es, típicamente, un subconjunto del conjunto de atributos.\n",
    "\n",
    "Cada 'caso' representado mediante un vector de características en el conjunto de datos se denomina **instancia** (o *ejemplo*, particularmente en el contexto de entrenamiento supervisado). \n",
    "\n",
    "La comparación entre datos y, por ende, el reconocimiento de patrones en un conjunto de datos se realiza a partir de la descripción de los datos en forma de vectores de características.\n",
    "\n",
    "\n",
    "#### Ejemplo: Base de datos de Diabetes \n",
    "El conjunto de datos *Pima Indian Diabetes Data Set* está compuesta por 768 instancias, formadas por 8 variables o atributos de entrada, además de una columna adicional que establece si la paciente tiene diabetes (1) o no (0). Estos datos se muestran en la tabla a continuación, donde se ha agregado una tercera columna con nombres cortos que serán utilizados como nombre de variable en los algoritmos de análisis: \n",
    "\n",
    "<table style=\"width: 75%\">\n",
    "  <col width=\"60pt%\">\n",
    "  <col width=\"60%\">\n",
    "  <col width=\"60pt%\">\n",
    "  <tr>\n",
    "    <th style=\"text-align: left; font-size: 110%; border: 1px solid #555; widt:5%;\">Variable</th>\n",
    "    <th style=\"text-align: left; font-size: 110%; border: 1px solid #555;\">Atributos de predicción</th>\n",
    "    <th style=\"text-align: left; font-size: 110%; border: 1px solid #555;\">Etiqueta</th>\n",
    "  </tr>\n",
    "  <tr>\n",
    "    <td style=\"text-align: left; border: 1px solid #555;\">1</td>\n",
    "    <td style=\"text-align: left; border: 1px solid #555;\">Número de embarazos</td>\n",
    "    <td style=\"text-align: left; border: 1px solid #555;\">$emb$</td>\n",
    "  </tr>\n",
    "  <tr>\n",
    "    <td style=\"text-align: left; border: 1px solid #555;\">2</td>\n",
    "    <td style=\"text-align: left; border: 1px solid #555;\">Concentración plasmática de glucosa a las 2 horas de una prueba de tolerancia a la glucosa oral</td>\n",
    "    <td style=\"text-align: left; border: 1px solid #555;\">$gl2h$</td>\n",
    "  </tr>\n",
    "  <tr>\n",
    "    <td style=\"text-align: left; border: 1px solid #555;\">3</td>\n",
    "    <td style=\"text-align: left; border: 1px solid #555;\">Presión diastólica de la sangre</td>\n",
    "    <td style=\"text-align: left; border: 1px solid #555;\">$pad$</td>\n",
    "  </tr>\n",
    "  <tr>\n",
    "    <td style=\"text-align: left; border: 1px solid #555;\">4</td>\n",
    "    <td style=\"text-align: left; border: 1px solid #555;\">Espesor de la piel del tríceps</td>\n",
    "    <td style=\"text-align: left; border: 1px solid #555;\">$ept$</td>\n",
    "  </tr>\n",
    "  <tr>\n",
    "    <td style=\"text-align: left; border: 1px solid #555;\">5</td>\n",
    "    <td style=\"text-align: left; border: 1px solid #555;\">Cantidad de insulina en suero en dos horas</td>\n",
    "    <td style=\"text-align: left; border: 1px solid #555;\">$is2h$</td>\n",
    "  </tr>\n",
    "  <tr>\n",
    "    <td style=\"text-align: left; border: 1px solid #555;\">6</td>\n",
    "    <td style=\"text-align: left; border: 1px solid #555;\">Índice de Masa Corporal</td>\n",
    "    <td style=\"text-align: left; border: 1px solid #555;\">$imc$</td>\n",
    "  </tr>\n",
    "  <tr>\n",
    "    <td style=\"text-align: left; border: 1px solid #555;\">7</td>\n",
    "    <td style=\"text-align: left; border: 1px solid #555;\">Antecedentes Familiares</td>\n",
    "    <td style=\"text-align: left; border: 1px solid #555;\">$fpd$</td>\n",
    "  </tr>\n",
    "  <tr>\n",
    "    <td style=\"text-align: left; border: 1px solid #555;\">8</td>\n",
    "    <td style=\"text-align: left; border: 1px solid #555;\">Edad</td>\n",
    "    <td style=\"text-align: left; border: 1px solid #555;\">$edad$</td>\n",
    "  </tr>\n",
    "  <tr>\n",
    "    <td style=\"text-align: left; border: 1px solid #555;\">9</td>\n",
    "    <td style=\"text-align: left; border: 1px solid #555;\">Estado diabético</td>\n",
    "    <td style=\"text-align: left; border: 1px solid #555;\">$clase$</td>\n",
    "  </tr>\n",
    "</table>\n",
    "\n",
    "Los vectores de características en el caso del diagnóstico de diabetes a partir del conjunto de datos *Pima Indians Diabetes Dataset* tiene, entonces, la forma $\\vec{v} = (emb, gl2h, pad, ept, is2h, imc, fpd, edad)$.\n",
    "\n",
    "## Medidas de semejanza\n",
    "\n",
    "El concepto de semejanza en reconocimiento de patrones está estrechamente relacionado con los procesos (subjetivos) de percepción del ser humano. Estos procesos han sido estudiados ampliamente por psicólogos dentro de la teoría de la Gestalt. Esta teoría reconoce diversos principios en base a los cuales se puede explicar el concepto de semejanza, destacándose la \"proximidad\" y la \"similitud\".\n",
    "\n",
    "<img src='images/gestalt_grouping.png' width='60%'>\n",
    "\n",
    "* El principio de proximidad describe la forma en que el ojo humano percibe las conexiones entre los elementos visuales en base a su colocación espacial. Los elementos cercanos entre sí se perciben como parte de un grupo, a diferencia de elementos que se encuentran separados. La \"proximidad\", entonces, se puede medir de manera directa a través de medidas de distancia.\n",
    "* La \"similitud\", por su parte, está influenciada por la forma, el tamaño y el color de los elementos. De acuerdo con el principio de similitud, el ojo humano tiende a percibir elementos similares como pertenecientes a un grupo, aún cuando se encuentren espacialmente separados. \n",
    "    \n",
    "Proximidad y similitud son utilizados de manera alternativa en reconocimiento de patrones para medir semejanza entre elementos en el espacio de características."
   ]
  },
  {
   "cell_type": "markdown",
   "metadata": {},
   "source": [
    "## Medidas de distancia\n",
    "\n",
    "La forma más común de medir la proximidad entre dos puntos es a través de la distancia. Una función de distancia se define de la siguiente manera:\n",
    "\n",
    "> Dado un conjunto $X$, una función valuada real $d(x, y)$ en el producto cartesiano $X \\times X$ es una métrica de distancia si, para cualquier $x, y, z \\in X$, satisface las condiciones siguientes:<br><br>\n",
    "\\begin{eqnarray}\n",
    " \\mathbf{D1}\\; & & d(x,y)\\ge 0 \\\\\n",
    " \\mathbf{D2}\\; & & d(x,y)=0 \\iff x=y\\\\\n",
    " \\mathbf{D3}\\; & & d(x,y)=d(y,x)\\\\\n",
    " \\mathbf{D4}\\; & & d(x,y) + d(y,z) \\ge d(x,z)\n",
    "\\end{eqnarray}\n",
    "\n",
    "* $\\mathbf{D1}$ o condición de <em>no negatividad</em> establece que la distancia entre dos puntos cualquiera en $X$ siempre debe ser positiva o nula. \n",
    "\n",
    "* $\\mathbf{D2}$ es la llamada <em>condición de identidad de indiscernibles</em> y establece que si dos elementos $x, y \\in X$ comparten el mismo valor en todas sus características, entonces son indistinguibles o idénticos y que, así mismo, si dos elementos $x, y \\in X$ son idénticos, su distancia debe ser cero. \n",
    "\n",
    "* $\\mathbf{D3}$ establece una condición de <em>simetría</em>: La distancia del punto $x$ al punto $y$ tiene el mismo valor que la distancia del punto $y$ al punto $x$. \n",
    "\n",
    "* $\\mathbf{D4}$ exige que las distancias entre los puntos $x, y, z \\in X$ satisfagan la <em>desigualdad del triángulo</em>:\n",
    "\n",
    "<img src=\"images/triangle.png\" width=\"400\">\n",
    "\n",
    "Existen diversas funciones de distancia, siendo algunas de las más comunes las siguientes:\n",
    "\n",
    "### **Distancia euclidiana** \n",
    "\n",
    "La forma más común para medir la distancia es la llamada distancia euclidiana. Corresponde a la distancia en línea recta desde un punto al otro\n",
    "\n",
    "![](images/euclidean.png)\n",
    "![ ](images/blank.png)\n",
    "\n",
    "En general, si $p = (p_1, p_2, ..., p_n)$ y $q = (q_1, q_2, ..., q_n)$ son dos puntos en un espacio de *n* características, la distancia euclidiana entre p y q es \n",
    "\n",
    "$$d(p,q) = +\\sqrt{(p_1-q_1)^2, (p_2-q_2)^2 \\ldots (p_n-q_n)^2}\\ $$ \n",
    "\n",
    "Por ejemplo, en Python, utilizando el paquete [*scipy.spatial.distance*](http://docs.scipy.org/doc/scipy/reference/generated/scipy.spatial.distance.pdist.html#scipy.spatial.distance.pdist):"
   ]
  },
  {
   "cell_type": "code",
   "execution_count": 1,
   "metadata": {},
   "outputs": [],
   "source": [
    "from scipy.spatial import distance"
   ]
  },
  {
   "cell_type": "code",
   "execution_count": 2,
   "metadata": {},
   "outputs": [
    {
     "name": "stdout",
     "output_type": "stream",
     "text": [
      "La distancia entre el punto (1, 2, 3) y el punto (4, 5, 6) es: 5.196152422706632\n"
     ]
    }
   ],
   "source": [
    "a = (1,2,3)\n",
    "b = (4,5,6)\n",
    "\n",
    "print('La distancia entre el punto {} y el punto {} es:'\n",
    "      .format(a,b), distance.euclidean(a,b))"
   ]
  },
  {
   "cell_type": "markdown",
   "metadata": {},
   "source": [
    "Para calcular todas las distancias en el siguiente conjunto de datos (tomados del conjunto de datos de diabetes), utilizamos:"
   ]
  },
  {
   "cell_type": "code",
   "execution_count": 3,
   "metadata": {},
   "outputs": [
    {
     "name": "stdout",
     "output_type": "stream",
     "text": [
      "Las distancias euclidianas para los datos\n",
      "[[6.0, 148.0, 72.0, 35.0, 0.0, 33.6, 0.627, 50.0, 1.0], [1.0, 85.0, 66.0, 29.0, 0.0, 26.6, 0.351, 31.0, 0.0], [8.0, 183.0, 64.0, 0.0, 0.0, 23.3, 0.672, 32.0, 1.0], [1.0, 89.0, 66.0, 23.0, 94.0, 28.1, 0.167, 21.0, 0.0], [0.0, 137.0, 40.0, 35.0, 168.0, 43.1, 2.288, 33.0, 1.0]]\n",
      "son:\n",
      " [ 66.91095707  54.29633528 115.73444431 172.58913326 102.52313417\n",
      "  94.8171074  178.66729407 135.64400107 180.55650488  94.7391083 ]\n"
     ]
    }
   ],
   "source": [
    "datos = [\n",
    "    [6.0, 148.0, 72.0, 35.0, 0.0, 33.6, 0.627, 50.0, 1.0], \n",
    "    [1.0, 85.0, 66.0, 29.0, 0.0, 26.6, 0.351, 31.0, 0.0], \n",
    "    [8.0, 183.0, 64.0, 0.0, 0.0, 23.3, 0.672, 32.0, 1.0], \n",
    "    [1.0, 89.0, 66.0, 23.0, 94.0, 28.1, 0.167, 21.0, 0.0], \n",
    "    [0.0, 137.0, 40.0, 35.0, 168.0, 43.1, 2.288, 33.0, 1.0]]\n",
    "\n",
    "md = distance.pdist(datos, 'euclidean')\n",
    "print('Las distancias euclidianas para los datos\\n{}\\nson:\\n'\n",
    "      .format(datos), md)"
   ]
  },
  {
   "cell_type": "markdown",
   "metadata": {},
   "source": [
    "El despliegue de la lista listas que describen los datos puede mejorarse:"
   ]
  },
  {
   "cell_type": "code",
   "execution_count": 4,
   "metadata": {},
   "outputs": [
    {
     "data": {
      "text/plain": [
       "[[6.0, 148.0, 72.0, 35.0, 0.0, 33.6, 0.627, 50.0, 1.0],\n",
       " [1.0, 85.0, 66.0, 29.0, 0.0, 26.6, 0.351, 31.0, 0.0],\n",
       " [8.0, 183.0, 64.0, 0.0, 0.0, 23.3, 0.672, 32.0, 1.0],\n",
       " [1.0, 89.0, 66.0, 23.0, 94.0, 28.1, 0.167, 21.0, 0.0],\n",
       " [0.0, 137.0, 40.0, 35.0, 168.0, 43.1, 2.288, 33.0, 1.0]]"
      ]
     },
     "metadata": {},
     "output_type": "display_data"
    }
   ],
   "source": [
    "from IPython.display import display\n",
    "\n",
    "display(datos)"
   ]
  },
  {
   "cell_type": "markdown",
   "metadata": {},
   "source": [
    "El resultado de las distancias, por otra parte, se presenta en forma de lo que se denomina una 'matriz condensada', es decir, un arreglo lineal con  $n(n-1)/2$ valores (294528, en el ejemplo de diabetes). Estos valorres representan las distancias de cada renglón contra los renglones restantes. Se puede obtener una representación más convencional y más clara utilizando el método *distance.squareform*:"
   ]
  },
  {
   "cell_type": "code",
   "execution_count": 5,
   "metadata": {},
   "outputs": [
    {
     "name": "stdout",
     "output_type": "stream",
     "text": [
      "[[  0.          66.91095707  54.29633528 115.73444431 172.58913326]\n",
      " [ 66.91095707   0.         102.52313417  94.8171074  178.66729407]\n",
      " [ 54.29633528 102.52313417   0.         135.64400107 180.55650488]\n",
      " [115.73444431  94.8171074  135.64400107   0.          94.7391083 ]\n",
      " [172.58913326 178.66729407 180.55650488  94.7391083    0.        ]]\n"
     ]
    }
   ],
   "source": [
    "sq_md = distance.squareform(md)\n",
    "print(sq_md)"
   ]
  },
  {
   "cell_type": "markdown",
   "metadata": {},
   "source": [
    "Como puede observarse, la matriz es simétrica con respecto a la diagonal principal (la distancia desde $x$ hasta $y$ tiene el mismo valor que la distancia desde $y$ hasta $x$) y los elementos de la diagonal principal son todos ceros (la distancia de un punto a sí mismo es cero). Por ello, en muchos casos se prefiere utilizar en los cálculos la forma condensada de la matriz, o la matriz triangular superior (o la inferior) para despliegue:"
   ]
  },
  {
   "cell_type": "code",
   "execution_count": 6,
   "metadata": {},
   "outputs": [
    {
     "name": "stdout",
     "output_type": "stream",
     "text": [
      "[[  0.          66.91095707  54.29633528 115.73444431 172.58913326]\n",
      " [  0.           0.         102.52313417  94.8171074  178.66729407]\n",
      " [  0.           0.           0.         135.64400107 180.55650488]\n",
      " [  0.           0.           0.           0.          94.7391083 ]\n",
      " [  0.           0.           0.           0.           0.        ]]\n"
     ]
    }
   ],
   "source": [
    "import numpy as np\n",
    "\n",
    "print(np.triu(sq_md))"
   ]
  },
  {
   "cell_type": "markdown",
   "metadata": {},
   "source": [
    "### **Distancia de Manhattan** \n",
    "\n",
    "También conocida como distancia del taxista, distancia lineal o distancia de ciudad, consiste en sumar las distancias horizontales y verticales, como lo haría un taxi que va de un punto a otro a través de las calles una ciudad. \n",
    "\n",
    "![](images/manhattan.png)\n",
    "$$d(p,q) = \\left|p-q \\right| = \\sum_{i=1}^n \\left|p_i-q_i \\right| \\ $$"
   ]
  },
  {
   "cell_type": "code",
   "execution_count": 7,
   "metadata": {},
   "outputs": [
    {
     "name": "stdout",
     "output_type": "stream",
     "text": [
      "Las distancias del uber (10) para los datos de prueba son:\n",
      " [107.276 108.345 211.96  245.161 141.621 115.684 274.437 237.305 303.416\n",
      " 191.121]\n"
     ]
    }
   ],
   "source": [
    "md_manhattan = distance.pdist(datos, 'cityblock')\n",
    "print('Las distancias del uber ({}) para los datos de prueba son:\\n'\n",
    "      .format(md_manhattan.size), md_manhattan)"
   ]
  },
  {
   "cell_type": "markdown",
   "metadata": {},
   "source": [
    "### **Distancia de Minkowski** \n",
    "\n",
    "Es una generalización de las distancias de Manhattan $(k=1)$ y Euclidiana $(k=2)$. \n",
    "\n",
    "$$D(p,q)=\\left(\\sum_{i=1}^n \\left| p_i-q_i \\right|^k \\right)^\\frac{1}{k} $$"
   ]
  },
  {
   "cell_type": "code",
   "execution_count": 8,
   "metadata": {},
   "outputs": [
    {
     "name": "stdout",
     "output_type": "stream",
     "text": [
      "Las distancias de Minkowski con k=1 para los datos de prueba son:\n",
      " [107.276 108.345 211.96  245.161 141.621 115.684 274.437 237.305 303.416\n",
      " 191.121]\n"
     ]
    }
   ],
   "source": [
    "md_minkowski = distance.pdist(datos, 'minkowski', 1)\n",
    "print('Las distancias de Minkowski con k=1 para los datos de prueba son:\\n', \n",
    "      md_minkowski)"
   ]
  },
  {
   "cell_type": "markdown",
   "metadata": {},
   "source": [
    "Obsérvese que, como es de esperar, los resultados coinciden con los de la distancia de Manhattan."
   ]
  },
  {
   "cell_type": "markdown",
   "metadata": {},
   "source": [
    "## Funciones de similitud\n",
    "\n",
    "Otra forma de medir semejanza entre dos objetos es a través de una función de **similitud**. Aunque la similitud guarda cierta relación de *inversas* con la distancia, su naturaleza es distinta: mientras que la idea de distancia se deriva de una relación espacial, la similitud se deriva de un conteo de rasgos similares entre dos objetos.\n",
    "\n",
    "A diferencia del caso de la distancia, y a pesar de que la similitud es ampliamente utilizada en reconocimiento de patrones, no existe una definición mátemática clara y aceptada. La definición formal que está ganando aceptación es [la siguiente](https://ac.els-cdn.com/S0304397509001819/1-s2.0-S0304397509001819-main.pdf?_tid=75461bac-2b60-4a4b-a015-d6b728cc28c2&acdnat=1552187886_f3a48c142aeb205abb2a4efe88d355f1): \n",
    "\n",
    "> Dado un conjunto $X$, una función valuada real $s(x, y)$ en el producto cartesiano $X \\times X$ es una métrica de similitud si, para cualquier $x, y, z \\in X$, satisface las condiciones siguientes:<br><br>\n",
    "\\begin{eqnarray*}\n",
    " \\mathbf{S1}\\; & & s(x, y) = s(y, x) \\\\\n",
    " \\mathbf{S2}\\; & & s(x, x) \\ge 0 \\\\\n",
    " \\mathbf{S3}\\; & & s(x, x) \\ge s(x, y) \\\\\n",
    " \\mathbf{S4}\\; & & s(x, y) + s(y, z) \\le s(x, z) + s(y, y) \\\\\n",
    " \\mathbf{S5}\\; & & s(x, x) = s(y, y) = s(x, y) \\iff x = y \\\\\n",
    "\\end{eqnarray*}\n",
    "\n",
    "* $\\mathbf{S1}$ establece una condición de simetría, equivalente a $\\mathbf{D3}$ para las distancias. \n",
    "\n",
    "* $\\mathbf{S2}$ establece la condición de <em>no negatividadad</em> para la auto similitud: la similitud de cualquier elemento $x \\in X$ consigo mismo es positiva o no nula. Esta condición es menos intuitiva que la condición $s(x,y) = 1 \\iff x=y$, una condición frecuentemente utilizada en la práctica en medidas de similitud acotadas superiormente a uno y que establece que todo elemento se parece a si mismo tanto como es posible. $\\mathbf{S2}$, por otra parte, sólo establece un límite inferior a cero y permite cualquier valor positivo o nulo para la auto similitud, por lo que potencialmente $s(x, x) \\ne s(y, y)$ para $x, y \\in X$. Para entender esta idea poco intuitiva, hay que recordar que la similitud se define, conceptualmente, en términos de las características compartidas por los elementos en el espacio de características, por lo tanto, mientras mejor sea la descripción de un objeto, mayor será su capacidad para compararse con otros elementos y consigo mismo. $s(x, x) \\ne s(y, y)$, por lo tanto, puede interpretarse como una descripción de la diferencia descriptiva entre los elementos $x$ y $y$.\n",
    "\n",
    "* $\\mathbf{S3}$ establece que la autosimilitud de cualquier elemento $x \\in X$ es mayor o igual que su similitud con cualquier otro elemento en el conjunto, nuevamente, sin especificar un valor máximo a la auto similitud.\n",
    "\n",
    "* $\\mathbf{S4}$ es una condición semejante a la desigualdad del triángulo para las distancias. Resalta, sin embargo, la inclusión del término $s(y, y)$. Puesto que la similitud entre dos elementos depende de su riqueza descriptiva, entonces resulta razonable tomar como base en las comparaciones de similitud entre $x$ y $z$ a través de $y$, la riqueza descriptiva ofrecida por $y$.\n",
    "\n",
    "* $\\mathbf{S5}$ es la condición de identidad de indiscernibles. La implicación $\\mathbf{si}$ es clara: si $x$ y $y$ son idénticos, entonces la similitud entre ambos es la mmisma que la autosimilitud de $x$ y que la autosimilitud de $y$. La parte $\\mathbf{sólo\\ si}$ es menos evidente desde un punto de vista numérico, pero, es clara desde una perspectiva conceptual: $s(x, x)$ representa todas las características compartidas por $x$ consigo misma, es decir, la auto similitud de una variable es, fundamentalmente, una relación de todas sus características; si las características de $x$ son las mismas que las caracteristicas de $y$ entonces $x$ y $y$ son indistinguibles. Esta idea es acorde con las ideas planteadas en las condiciones $\\mathbf{S2-S4}$.\n",
    "\n",
    "### Similitud y distancia\n",
    "\n",
    "Una forma simple de definir medidas de similitudes es derivarlas a partir de las medidas conocidas de distancia. La forma más común de hacer esto es mediante la inversa de la función de distancia correspondiente:\n",
    "\n",
    " $$s(x,y) = \\frac{1}{d(x,y)}$$"
   ]
  },
  {
   "cell_type": "code",
   "execution_count": 9,
   "metadata": {},
   "outputs": [
    {
     "name": "stdout",
     "output_type": "stream",
     "text": [
      "\n",
      "Las distancias euclidianas para los datos de diabetes son:\n",
      " [ 66.91095707  54.29633528 115.73444431 172.58913326 102.52313417\n",
      "  94.8171074  178.66729407 135.64400107 180.55650488  94.7391083 ]\n",
      "\n",
      "Las similitudes euclidianas para los datos de diabetes son:\n",
      " [0.01494524 0.01841745 0.00864047 0.00579411 0.0097539  0.01054662\n",
      " 0.005597   0.00737224 0.00553843 0.0105553 ]\n",
      "\n",
      "Las similitudes euclidianas para los datos \"pequeños\" de diabetes son:\n",
      " [149.45235337 184.17449259  86.40470052  57.94107549  97.53896114\n",
      " 105.46619987  55.96995271  73.72239039  55.38432418 105.55303063]\n"
     ]
    }
   ],
   "source": [
    "md = distance.pdist(datos, 'euclidean')\n",
    "print('\\nLas distancias euclidianas para los datos de diabetes son:\\n', md)\n",
    "\n",
    "ms = 1/md\n",
    "print('\\nLas similitudes euclidianas para los datos de diabetes son:\\n', ms)\n",
    "\n",
    "md2 = md/10000\n",
    "print('\\nLas similitudes euclidianas para los datos \"pequeños\" de diabetes son:\\n', 1/md2)"
   ]
  },
  {
   "cell_type": "markdown",
   "metadata": {},
   "source": [
    "La siguiente modificación resuelve el problema de posible división por cero.\n",
    "\n",
    "$$s(x,y) = \\frac{1}{d(x,y)+0.5}$$"
   ]
  },
  {
   "cell_type": "code",
   "execution_count": 10,
   "metadata": {},
   "outputs": [
    {
     "name": "stdout",
     "output_type": "stream",
     "text": [
      "\n",
      "Las similitudes euclidianas para los datos de diabetes son:\n",
      " [0.01483438 0.0182494  0.0086033  0.00577737 0.00970656 0.0104913\n",
      " 0.00558138 0.00734516 0.00552314 0.01049989]\n",
      "\n",
      "Las similitudes euclidianas para los datos \"pequeños\" de diabetes son:\n",
      " [1.97358905 1.97851478 1.95475354 1.9332678  1.95981473 1.96277899\n",
      " 1.93099874 1.94717547 1.93029455 1.96280904]\n"
     ]
    }
   ],
   "source": [
    "ms = 1/(md+0.5)\n",
    "print('\\nLas similitudes euclidianas para los datos de diabetes son:\\n', ms)\n",
    "\n",
    "ms2 = 1/(md2+0.5)\n",
    "print('\\nLas similitudes euclidianas para los datos \"pequeños\" de diabetes son:\\n', ms2)"
   ]
  },
  {
   "cell_type": "markdown",
   "metadata": {},
   "source": [
    "\n",
    "### Distancias normalizadas\n",
    "\n",
    "Cuando se trabaja con similitudes puede ser conveniente que los valores obtenidos queden restringidos a un rango, típicamente en [0, 1]. De esta manera resulta claro asociar 0 a la similitud entre objetos totalmente disímiles y 1 entre objetos idénticos. Cuando las medidas de similitud se derivan de una distancia, es conveniente, en tales casos, normalizar la distancia. Existen diversas maneras de normalizar las distancias, siendo las más comunes las siguientes:\n",
    "\n",
    "$$\\hat{d}(x,y) = \\frac{d(x,y)}{1+d(x,y)}$$\n",
    "\n",
    "y una función de similitud normalizada derivada de esta distancia normalizada sería:\n",
    "\n",
    "$$s(x,y) = 1-\\hat{d}(x,y)$$"
   ]
  },
  {
   "cell_type": "code",
   "execution_count": 11,
   "metadata": {},
   "outputs": [
    {
     "name": "stdout",
     "output_type": "stream",
     "text": [
      "\n",
      "Las distancias euclidianas para los datos de diabetes son:\n",
      " [ 66.91095707  54.29633528 115.73444431 172.58913326 102.52313417\n",
      "  94.8171074  178.66729407 135.64400107 180.55650488  94.7391083 ]\n",
      "\n",
      "Las distancias euclidianas normalizadas para los datos de diabetes son:\n",
      " [0.98527484 0.98191562 0.99143355 0.99423927 0.99034032 0.98956345\n",
      " 0.99443416 0.99268171 0.99449207 0.98955495]\n",
      "\n",
      "Y las similituddes euclidianas correspondientes son:\n",
      " [0.01472516 0.01808438 0.00856645 0.00576073 0.00965968 0.01043655\n",
      " 0.00556584 0.00731829 0.00550793 0.01044505]\n",
      "\n",
      "Y para los datos pequeños:\n",
      " d: [0.00664662 0.00540031 0.01144103 0.0169661  0.01014827 0.00939265\n",
      " 0.01755311 0.01338287 0.01773543 0.009385  ] \n",
      " s: [0.99335338 0.99459969 0.98855897 0.9830339  0.98985173 0.99060735\n",
      " 0.98244689 0.98661713 0.98226457 0.990615  ]\n"
     ]
    }
   ],
   "source": [
    "md = distance.pdist(datos, 'euclidean')\n",
    "print('\\nLas distancias euclidianas para los datos de diabetes son:\\n', md)\n",
    "mdn =  md/(1+md)\n",
    "print('\\nLas distancias euclidianas normalizadas para los datos de diabetes son:\\n', mdn)\n",
    "print('\\nY las similituddes euclidianas correspondientes son:\\n', 1-mdn)\n",
    "\n",
    "md2 = md/10000\n",
    "mdn2 =  md2/(1+md2)\n",
    "print('\\nY para los datos pequeños:\\n d:', mdn2, \"\\n s:\",1-mdn2)"
   ]
  },
  {
   "cell_type": "markdown",
   "metadata": {},
   "source": [
    "## Conclusiones\n",
    "\n",
    "* En el contexto de reconocimiento de patrones, se entiende por \"atributo\" la representación de una propiedad de un objeto.\n",
    "\n",
    "* Si el atributo forma parte del vector representativo del objeto, le llamamos \"característica\".\n",
    "\n",
    "* Una \"instancia\" es cada uno de los vectores de características empleados para describir los elementos en el conjunto de observaciones.\n",
    "\n",
    "* La comparación entre instancias en un problema se realiza mediante medidas de semejanza, que pueden ser funciones de distancia o funciones de similitud."
   ]
  },
  {
   "cell_type": "markdown",
   "metadata": {},
   "source": [
    "<hr style=\"border-width: 3px;\">\n",
    "\n",
    "###### <a name=\"tarea_4\">Tarea:</a>\n",
    "\n",
    "* Investigue y explique las funciones de distancia de Hamming, Pearson, Coseno y Gower. \n"
   ]
  },
  {
   "cell_type": "code",
   "execution_count": null,
   "metadata": {},
   "outputs": [],
   "source": []
  }
 ],
 "metadata": {
  "celltoolbar": "Raw Cell Format",
  "kernelspec": {
   "display_name": "Python 3",
   "language": "python",
   "name": "python3"
  },
  "language_info": {
   "codemirror_mode": {
    "name": "ipython",
    "version": 3
   },
   "file_extension": ".py",
   "mimetype": "text/x-python",
   "name": "python",
   "nbconvert_exporter": "python",
   "pygments_lexer": "ipython3",
   "version": "3.7.2"
  }
 },
 "nbformat": 4,
 "nbformat_minor": 2
}
